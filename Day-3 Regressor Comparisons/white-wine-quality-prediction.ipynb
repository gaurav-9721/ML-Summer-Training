{
 "cells": [
  {
   "cell_type": "code",
   "execution_count": 1,
   "id": "cc611f40",
   "metadata": {
    "execution": {
     "iopub.execute_input": "2022-06-23T06:28:30.942010Z",
     "iopub.status.busy": "2022-06-23T06:28:30.941211Z",
     "iopub.status.idle": "2022-06-23T06:28:32.372494Z",
     "shell.execute_reply": "2022-06-23T06:28:32.371122Z"
    },
    "papermill": {
     "duration": 1.442968,
     "end_time": "2022-06-23T06:28:32.375594",
     "exception": false,
     "start_time": "2022-06-23T06:28:30.932626",
     "status": "completed"
    },
    "tags": []
   },
   "outputs": [],
   "source": [
    "import numpy as np\n",
    "import pandas as pd\n",
    "import matplotlib.pyplot as plt\n",
    "import seaborn as sns\n",
    "from sklearn.metrics import mean_squared_error\n",
    "from sklearn.model_selection import cross_val_score, train_test_split\n",
    "from sklearn.preprocessing import StandardScaler, MinMaxScaler\n",
    "from sklearn.metrics import r2_score\n",
    "from sklearn.model_selection import cross_val_score"
   ]
  },
  {
   "cell_type": "code",
   "execution_count": 2,
   "id": "edea0ab7",
   "metadata": {
    "execution": {
     "iopub.execute_input": "2022-06-23T06:28:32.389646Z",
     "iopub.status.busy": "2022-06-23T06:28:32.388564Z",
     "iopub.status.idle": "2022-06-23T06:28:32.423359Z",
     "shell.execute_reply": "2022-06-23T06:28:32.422450Z"
    },
    "papermill": {
     "duration": 0.044256,
     "end_time": "2022-06-23T06:28:32.425795",
     "exception": false,
     "start_time": "2022-06-23T06:28:32.381539",
     "status": "completed"
    },
    "tags": []
   },
   "outputs": [],
   "source": [
    "#Importing Dataset\n",
    "\n",
    "Dataset = pd.read_csv(r'../input/white-wine-quality/winequality-white.csv', sep = ';')  "
   ]
  },
  {
   "cell_type": "code",
   "execution_count": 3,
   "id": "d5717356",
   "metadata": {
    "execution": {
     "iopub.execute_input": "2022-06-23T06:28:32.439499Z",
     "iopub.status.busy": "2022-06-23T06:28:32.438908Z",
     "iopub.status.idle": "2022-06-23T06:28:32.467135Z",
     "shell.execute_reply": "2022-06-23T06:28:32.466329Z"
    },
    "papermill": {
     "duration": 0.038396,
     "end_time": "2022-06-23T06:28:32.469981",
     "exception": false,
     "start_time": "2022-06-23T06:28:32.431585",
     "status": "completed"
    },
    "tags": []
   },
   "outputs": [
    {
     "data": {
      "text/html": [
       "<div>\n",
       "<style scoped>\n",
       "    .dataframe tbody tr th:only-of-type {\n",
       "        vertical-align: middle;\n",
       "    }\n",
       "\n",
       "    .dataframe tbody tr th {\n",
       "        vertical-align: top;\n",
       "    }\n",
       "\n",
       "    .dataframe thead th {\n",
       "        text-align: right;\n",
       "    }\n",
       "</style>\n",
       "<table border=\"1\" class=\"dataframe\">\n",
       "  <thead>\n",
       "    <tr style=\"text-align: right;\">\n",
       "      <th></th>\n",
       "      <th>fixed acidity</th>\n",
       "      <th>volatile acidity</th>\n",
       "      <th>citric acid</th>\n",
       "      <th>residual sugar</th>\n",
       "      <th>chlorides</th>\n",
       "      <th>free sulfur dioxide</th>\n",
       "      <th>total sulfur dioxide</th>\n",
       "      <th>density</th>\n",
       "      <th>pH</th>\n",
       "      <th>sulphates</th>\n",
       "      <th>alcohol</th>\n",
       "      <th>quality</th>\n",
       "    </tr>\n",
       "  </thead>\n",
       "  <tbody>\n",
       "    <tr>\n",
       "      <th>0</th>\n",
       "      <td>7.0</td>\n",
       "      <td>0.27</td>\n",
       "      <td>0.36</td>\n",
       "      <td>20.7</td>\n",
       "      <td>0.045</td>\n",
       "      <td>45.0</td>\n",
       "      <td>170.0</td>\n",
       "      <td>1.0010</td>\n",
       "      <td>3.00</td>\n",
       "      <td>0.45</td>\n",
       "      <td>8.8</td>\n",
       "      <td>6</td>\n",
       "    </tr>\n",
       "    <tr>\n",
       "      <th>1</th>\n",
       "      <td>6.3</td>\n",
       "      <td>0.30</td>\n",
       "      <td>0.34</td>\n",
       "      <td>1.6</td>\n",
       "      <td>0.049</td>\n",
       "      <td>14.0</td>\n",
       "      <td>132.0</td>\n",
       "      <td>0.9940</td>\n",
       "      <td>3.30</td>\n",
       "      <td>0.49</td>\n",
       "      <td>9.5</td>\n",
       "      <td>6</td>\n",
       "    </tr>\n",
       "    <tr>\n",
       "      <th>2</th>\n",
       "      <td>8.1</td>\n",
       "      <td>0.28</td>\n",
       "      <td>0.40</td>\n",
       "      <td>6.9</td>\n",
       "      <td>0.050</td>\n",
       "      <td>30.0</td>\n",
       "      <td>97.0</td>\n",
       "      <td>0.9951</td>\n",
       "      <td>3.26</td>\n",
       "      <td>0.44</td>\n",
       "      <td>10.1</td>\n",
       "      <td>6</td>\n",
       "    </tr>\n",
       "    <tr>\n",
       "      <th>3</th>\n",
       "      <td>7.2</td>\n",
       "      <td>0.23</td>\n",
       "      <td>0.32</td>\n",
       "      <td>8.5</td>\n",
       "      <td>0.058</td>\n",
       "      <td>47.0</td>\n",
       "      <td>186.0</td>\n",
       "      <td>0.9956</td>\n",
       "      <td>3.19</td>\n",
       "      <td>0.40</td>\n",
       "      <td>9.9</td>\n",
       "      <td>6</td>\n",
       "    </tr>\n",
       "    <tr>\n",
       "      <th>4</th>\n",
       "      <td>7.2</td>\n",
       "      <td>0.23</td>\n",
       "      <td>0.32</td>\n",
       "      <td>8.5</td>\n",
       "      <td>0.058</td>\n",
       "      <td>47.0</td>\n",
       "      <td>186.0</td>\n",
       "      <td>0.9956</td>\n",
       "      <td>3.19</td>\n",
       "      <td>0.40</td>\n",
       "      <td>9.9</td>\n",
       "      <td>6</td>\n",
       "    </tr>\n",
       "  </tbody>\n",
       "</table>\n",
       "</div>"
      ],
      "text/plain": [
       "   fixed acidity  volatile acidity  citric acid  residual sugar  chlorides  \\\n",
       "0            7.0              0.27         0.36            20.7      0.045   \n",
       "1            6.3              0.30         0.34             1.6      0.049   \n",
       "2            8.1              0.28         0.40             6.9      0.050   \n",
       "3            7.2              0.23         0.32             8.5      0.058   \n",
       "4            7.2              0.23         0.32             8.5      0.058   \n",
       "\n",
       "   free sulfur dioxide  total sulfur dioxide  density    pH  sulphates  \\\n",
       "0                 45.0                 170.0   1.0010  3.00       0.45   \n",
       "1                 14.0                 132.0   0.9940  3.30       0.49   \n",
       "2                 30.0                  97.0   0.9951  3.26       0.44   \n",
       "3                 47.0                 186.0   0.9956  3.19       0.40   \n",
       "4                 47.0                 186.0   0.9956  3.19       0.40   \n",
       "\n",
       "   alcohol  quality  \n",
       "0      8.8        6  \n",
       "1      9.5        6  \n",
       "2     10.1        6  \n",
       "3      9.9        6  \n",
       "4      9.9        6  "
      ]
     },
     "execution_count": 3,
     "metadata": {},
     "output_type": "execute_result"
    }
   ],
   "source": [
    "#Viewing first 5 rows of the dataset\n",
    "Dataset.head()"
   ]
  },
  {
   "cell_type": "code",
   "execution_count": 4,
   "id": "0dede575",
   "metadata": {
    "execution": {
     "iopub.execute_input": "2022-06-23T06:28:32.483767Z",
     "iopub.status.busy": "2022-06-23T06:28:32.483039Z",
     "iopub.status.idle": "2022-06-23T06:28:33.420381Z",
     "shell.execute_reply": "2022-06-23T06:28:33.419146Z"
    },
    "papermill": {
     "duration": 0.948244,
     "end_time": "2022-06-23T06:28:33.424189",
     "exception": false,
     "start_time": "2022-06-23T06:28:32.475945",
     "status": "completed"
    },
    "tags": []
   },
   "outputs": [
    {
     "data": {
      "image/png": "[encoded data removed]",
      "text/plain": [
       "<Figure size 720x720 with 2 Axes>"
      ]
     },
     "metadata": {
      "needs_background": "light"
     },
     "output_type": "display_data"
    }
   ],
   "source": [
    "# Visualizing correaltion between columns\n",
    "corr = Dataset.corr()\n",
    "fig, ax = plt.subplots(figsize=(10, 10))\n",
    "sns.heatmap(corr, cmap='RdBu', annot=True, fmt=\".2f\")\n",
    "plt.xticks(range(len(corr.columns)), corr.columns);\n",
    "plt.yticks(range(len(corr.columns)), corr.columns)\n",
    "plt.show()\n"
   ]
  },
  {
   "cell_type": "code",
   "execution_count": 5,
   "id": "b7faac5d",
   "metadata": {
    "execution": {
     "iopub.execute_input": "2022-06-23T06:28:33.442327Z",
     "iopub.status.busy": "2022-06-23T06:28:33.441901Z",
     "iopub.status.idle": "2022-06-23T06:28:33.452323Z",
     "shell.execute_reply": "2022-06-23T06:28:33.451449Z"
    },
    "papermill": {
     "duration": 0.022357,
     "end_time": "2022-06-23T06:28:33.454585",
     "exception": false,
     "start_time": "2022-06-23T06:28:33.432228",
     "status": "completed"
    },
    "tags": []
   },
   "outputs": [],
   "source": [
    "# Splitting Dataset into Input and Output Set\n",
    "\n",
    "Data_X = Dataset.iloc[:,:-1]\n",
    "Data_Y = Dataset['quality']"
   ]
  },
  {
   "cell_type": "code",
   "execution_count": 6,
   "id": "1107e16b",
   "metadata": {
    "execution": {
     "iopub.execute_input": "2022-06-23T06:28:33.471638Z",
     "iopub.status.busy": "2022-06-23T06:28:33.470846Z",
     "iopub.status.idle": "2022-06-23T06:28:33.483300Z",
     "shell.execute_reply": "2022-06-23T06:28:33.482196Z"
    },
    "papermill": {
     "duration": 0.024284,
     "end_time": "2022-06-23T06:28:33.486272",
     "exception": false,
     "start_time": "2022-06-23T06:28:33.461988",
     "status": "completed"
    },
    "tags": []
   },
   "outputs": [],
   "source": [
    "# Scaling data\n",
    "\n",
    "sc = StandardScaler()\n",
    "Data_X = sc.fit_transform(Data_X)"
   ]
  },
  {
   "cell_type": "code",
   "execution_count": 7,
   "id": "75c7ed8c",
   "metadata": {
    "execution": {
     "iopub.execute_input": "2022-06-23T06:28:33.502988Z",
     "iopub.status.busy": "2022-06-23T06:28:33.502157Z",
     "iopub.status.idle": "2022-06-23T06:28:33.509357Z",
     "shell.execute_reply": "2022-06-23T06:28:33.508585Z"
    },
    "papermill": {
     "duration": 0.018038,
     "end_time": "2022-06-23T06:28:33.511604",
     "exception": false,
     "start_time": "2022-06-23T06:28:33.493566",
     "status": "completed"
    },
    "tags": []
   },
   "outputs": [],
   "source": [
    "#Splitting data into traiing and testing set\n",
    "\n",
    "Xtrain, Xtest, Ytrain, Ytest = train_test_split(Data_X, Data_Y, test_size = 0.2)"
   ]
  },
  {
   "cell_type": "code",
   "execution_count": 8,
   "id": "114c3576",
   "metadata": {
    "execution": {
     "iopub.execute_input": "2022-06-23T06:28:33.528587Z",
     "iopub.status.busy": "2022-06-23T06:28:33.527458Z",
     "iopub.status.idle": "2022-06-23T06:28:33.765515Z",
     "shell.execute_reply": "2022-06-23T06:28:33.764218Z"
    },
    "papermill": {
     "duration": 0.250571,
     "end_time": "2022-06-23T06:28:33.769469",
     "exception": false,
     "start_time": "2022-06-23T06:28:33.518898",
     "status": "completed"
    },
    "tags": []
   },
   "outputs": [
    {
     "name": "stdout",
     "output_type": "stream",
     "text": [
      "Linear Regression:\n",
      "R2 Score: 0.2451538966613267\n",
      "Room Mean Squared Error: 0.7514658789627573\n",
      "Cross Validation 0.2759329558290563\n"
     ]
    }
   ],
   "source": [
    "# Linear Regression\n",
    "\n",
    "from sklearn.linear_model import LinearRegression\n",
    "\n",
    "lr = LinearRegression()\n",
    "lr.fit(Xtrain, Ytrain)\n",
    "pred_lr = lr.predict(Xtest)\n",
    "lr_rmse = (mean_squared_error(Ytest, pred_lr))**0.5\n",
    "lr_score = r2_score(Ytest, pred_lr)\n",
    "cv_lr = cross_val_score(estimator = lr, X = Xtrain, y = Ytrain, cv = 10)\n",
    "\n",
    "print('Linear Regression:')\n",
    "print('R2 Score:', lr_score)\n",
    "print('Room Mean Squared Error:', lr_rmse)\n",
    "print('Cross Validation', cv_lr.mean())"
   ]
  },
  {
   "cell_type": "code",
   "execution_count": 9,
   "id": "fb2e7e9c",
   "metadata": {
    "execution": {
     "iopub.execute_input": "2022-06-23T06:28:33.799333Z",
     "iopub.status.busy": "2022-06-23T06:28:33.798733Z",
     "iopub.status.idle": "2022-06-23T06:28:34.254128Z",
     "shell.execute_reply": "2022-06-23T06:28:34.252625Z"
    },
    "papermill": {
     "duration": 0.47381,
     "end_time": "2022-06-23T06:28:34.256874",
     "exception": false,
     "start_time": "2022-06-23T06:28:33.783064",
     "status": "completed"
    },
    "tags": []
   },
   "outputs": [
    {
     "name": "stdout",
     "output_type": "stream",
     "text": [
      "Decision Tree:\n",
      "R2 Score: 0.08748517695789426\n",
      "Room Mean Squared Error: 0.8262282137669288\n",
      "Cross Validation 0.08634017812241207\n"
     ]
    }
   ],
   "source": [
    "# Decision Tree\n",
    "\n",
    "from sklearn.tree import DecisionTreeRegressor\n",
    "dt = DecisionTreeRegressor()\n",
    "dt.fit(Xtrain, Ytrain)\n",
    "\n",
    "pred_dt = dt.predict(Xtest)\n",
    "dt_rmse = (mean_squared_error(Ytest, pred_dt))**0.5\n",
    "dt_score = r2_score(Ytest, pred_dt)\n",
    "cv_dt = cross_val_score(estimator = dt, X = Xtrain, y = Ytrain, cv = 10)\n",
    "\n",
    "print('Decision Tree:')\n",
    "print('R2 Score:', dt_score)\n",
    "print('Room Mean Squared Error:', dt_rmse)\n",
    "print('Cross Validation', cv_dt.mean())"
   ]
  },
  {
   "cell_type": "code",
   "execution_count": 10,
   "id": "f0e306e7",
   "metadata": {
    "execution": {
     "iopub.execute_input": "2022-06-23T06:28:34.273733Z",
     "iopub.status.busy": "2022-06-23T06:28:34.273314Z",
     "iopub.status.idle": "2022-06-23T06:28:43.631898Z",
     "shell.execute_reply": "2022-06-23T06:28:43.630365Z"
    },
    "papermill": {
     "duration": 9.371495,
     "end_time": "2022-06-23T06:28:43.635962",
     "exception": false,
     "start_time": "2022-06-23T06:28:34.264467",
     "status": "completed"
    },
    "tags": []
   },
   "outputs": [
    {
     "name": "stdout",
     "output_type": "stream",
     "text": [
      "Support Vector Machine:\n",
      "\n",
      "R2 Score: 0.3725396774243096\n",
      "Room Mean Squared Error: 0.6851303261799229\n",
      "Cross Validation 0.39173505905765593\n"
     ]
    }
   ],
   "source": [
    "# Support Vector Regressor\n",
    "\n",
    "from sklearn.svm import SVR\n",
    "svr = SVR(kernel = 'rbf', gamma = 'scale')\n",
    "svr.fit(Xtrain, Ytrain)\n",
    "\n",
    "pred_svr = svr.predict(Xtest)\n",
    "svr_rmse = (mean_squared_error(Ytest, pred_svr))**0.5\n",
    "cv_svr = cross_val_score(estimator = svr, X = Xtrain, y = Ytrain, cv = 10)\n",
    "svr_score = r2_score(Ytest, pred_svr)\n",
    "\n",
    "print('Support Vector Machine:\\n')\n",
    "print('R2 Score:', svr_score)\n",
    "print('Room Mean Squared Error:', svr_rmse)\n",
    "print('Cross Validation', cv_svr.mean())"
   ]
  },
  {
   "cell_type": "code",
   "execution_count": 11,
   "id": "5fc027ce",
   "metadata": {
    "execution": {
     "iopub.execute_input": "2022-06-23T06:28:43.653967Z",
     "iopub.status.busy": "2022-06-23T06:28:43.652850Z",
     "iopub.status.idle": "2022-06-23T06:28:56.654007Z",
     "shell.execute_reply": "2022-06-23T06:28:56.652546Z"
    },
    "papermill": {
     "duration": 13.012718,
     "end_time": "2022-06-23T06:28:56.656592",
     "exception": false,
     "start_time": "2022-06-23T06:28:43.643874",
     "status": "completed"
    },
    "tags": []
   },
   "outputs": [
    {
     "name": "stdout",
     "output_type": "stream",
     "text": [
      "Random Forest:\n",
      "\n",
      "R2 Score: 0.50015754025032\n",
      "Room Mean Squared Error: 0.6115002368622107\n",
      "Cross Validation 0.5099938628290968\n"
     ]
    }
   ],
   "source": [
    "# Random Forest\n",
    "\n",
    "from sklearn.ensemble import RandomForestRegressor\n",
    "rf = RandomForestRegressor(n_estimators = 60)\n",
    "rf.fit(Xtrain, Ytrain)\n",
    "\n",
    "pred_rf = rf.predict(Xtest)\n",
    "rf_rmse = (mean_squared_error(Ytest, pred_rf))**0.5\n",
    "rf_score = r2_score(Ytest, pred_rf)\n",
    "cv_rf = cross_val_score(estimator = rf, X = Xtrain, y = Ytrain, cv = 10)\n",
    "\n",
    "print('Random Forest:\\n')\n",
    "print('R2 Score:', rf_score)\n",
    "print('Room Mean Squared Error:', rf_rmse)\n",
    "print('Cross Validation', cv_rf.mean())"
   ]
  },
  {
   "cell_type": "code",
   "execution_count": 12,
   "id": "1190ee17",
   "metadata": {
    "execution": {
     "iopub.execute_input": "2022-06-23T06:28:56.673874Z",
     "iopub.status.busy": "2022-06-23T06:28:56.673445Z",
     "iopub.status.idle": "2022-06-23T06:28:56.680027Z",
     "shell.execute_reply": "2022-06-23T06:28:56.678951Z"
    },
    "papermill": {
     "duration": 0.017859,
     "end_time": "2022-06-23T06:28:56.682116",
     "exception": false,
     "start_time": "2022-06-23T06:28:56.664257",
     "status": "completed"
    },
    "tags": []
   },
   "outputs": [],
   "source": [
    "model = ['Linear Regression', 'Decision Tree','Random Forest', 'Support Vector']\n",
    "scores = [lr_score, dt_score, rf_score, svr_score]\n",
    "rmse = [lr_rmse, dt_rmse, rf_rmse, svr_rmse, ]\n",
    "crv = [cv_lr.mean(), cv_dt.mean(),  cv_rf.mean(), cv_svr.mean()]\n"
   ]
  },
  {
   "cell_type": "code",
   "execution_count": 13,
   "id": "a4d27c32",
   "metadata": {
    "execution": {
     "iopub.execute_input": "2022-06-23T06:28:56.699099Z",
     "iopub.status.busy": "2022-06-23T06:28:56.698679Z",
     "iopub.status.idle": "2022-06-23T06:28:56.713261Z",
     "shell.execute_reply": "2022-06-23T06:28:56.712137Z"
    },
    "papermill": {
     "duration": 0.025953,
     "end_time": "2022-06-23T06:28:56.715611",
     "exception": false,
     "start_time": "2022-06-23T06:28:56.689658",
     "status": "completed"
    },
    "tags": []
   },
   "outputs": [
    {
     "data": {
      "text/html": [
       "<div>\n",
       "<style scoped>\n",
       "    .dataframe tbody tr th:only-of-type {\n",
       "        vertical-align: middle;\n",
       "    }\n",
       "\n",
       "    .dataframe tbody tr th {\n",
       "        vertical-align: top;\n",
       "    }\n",
       "\n",
       "    .dataframe thead th {\n",
       "        text-align: right;\n",
       "    }\n",
       "</style>\n",
       "<table border=\"1\" class=\"dataframe\">\n",
       "  <thead>\n",
       "    <tr style=\"text-align: right;\">\n",
       "      <th></th>\n",
       "      <th>Model</th>\n",
       "      <th>R2_Score</th>\n",
       "      <th>RMSE</th>\n",
       "      <th>Cross Validation</th>\n",
       "    </tr>\n",
       "  </thead>\n",
       "  <tbody>\n",
       "    <tr>\n",
       "      <th>0</th>\n",
       "      <td>Linear Regression</td>\n",
       "      <td>0.245154</td>\n",
       "      <td>0.751466</td>\n",
       "      <td>0.275933</td>\n",
       "    </tr>\n",
       "    <tr>\n",
       "      <th>1</th>\n",
       "      <td>Decision Tree</td>\n",
       "      <td>0.087485</td>\n",
       "      <td>0.826228</td>\n",
       "      <td>0.086340</td>\n",
       "    </tr>\n",
       "    <tr>\n",
       "      <th>2</th>\n",
       "      <td>Random Forest</td>\n",
       "      <td>0.500158</td>\n",
       "      <td>0.611500</td>\n",
       "      <td>0.509994</td>\n",
       "    </tr>\n",
       "    <tr>\n",
       "      <th>3</th>\n",
       "      <td>Support Vector</td>\n",
       "      <td>0.372540</td>\n",
       "      <td>0.685130</td>\n",
       "      <td>0.391735</td>\n",
       "    </tr>\n",
       "  </tbody>\n",
       "</table>\n",
       "</div>"
      ],
      "text/plain": [
       "               Model  R2_Score      RMSE  Cross Validation\n",
       "0  Linear Regression  0.245154  0.751466          0.275933\n",
       "1      Decision Tree  0.087485  0.826228          0.086340\n",
       "2      Random Forest  0.500158  0.611500          0.509994\n",
       "3     Support Vector  0.372540  0.685130          0.391735"
      ]
     },
     "execution_count": 13,
     "metadata": {},
     "output_type": "execute_result"
    }
   ],
   "source": [
    "res_dict = {\n",
    "    'Model':model,\n",
    "    'R2_Score': scores, \n",
    "    'RMSE': rmse, \n",
    "    'Cross Validation': crv\n",
    "}\n",
    "Result = pd.DataFrame(res_dict)\n",
    "Result"
   ]
  },
  {
   "cell_type": "code",
   "execution_count": 14,
   "id": "0a8d7d45",
   "metadata": {
    "execution": {
     "iopub.execute_input": "2022-06-23T06:28:56.733872Z",
     "iopub.status.busy": "2022-06-23T06:28:56.733468Z",
     "iopub.status.idle": "2022-06-23T06:28:56.938980Z",
     "shell.execute_reply": "2022-06-23T06:28:56.938118Z"
    },
    "papermill": {
     "duration": 0.217644,
     "end_time": "2022-06-23T06:28:56.941475",
     "exception": false,
     "start_time": "2022-06-23T06:28:56.723831",
     "status": "completed"
    },
    "tags": []
   },
   "outputs": [
    {
     "data": {
      "text/plain": [
       "<matplotlib.legend.Legend at 0x7ff18f11eb50>"
      ]
     },
     "execution_count": 14,
     "metadata": {},
     "output_type": "execute_result"
    },
    {
     "data": {
      "image/png": "[encoded data removed]",
      "text/plain": [
       "<Figure size 432x288 with 1 Axes>"
      ]
     },
     "metadata": {
      "needs_background": "light"
     },
     "output_type": "display_data"
    }
   ],
   "source": [
    "# Plot Scores\n",
    "\n",
    "plt.plot(model, scores, marker = 'o')\n",
    "plt.plot(model, rmse, marker = 'o')\n",
    "plt.plot(model, crv, marker = 'o')\n",
    "plt.legend(['R2 Score', 'RMSE', 'Cross'])"
   ]
  },
  {
   "cell_type": "code",
   "execution_count": null,
   "id": "fd5531fa",
   "metadata": {
    "papermill": {
     "duration": 0.008238,
     "end_time": "2022-06-23T06:28:56.958322",
     "exception": false,
     "start_time": "2022-06-23T06:28:56.950084",
     "status": "completed"
    },
    "tags": []
   },
   "outputs": [],
   "source": []
  },
  {
   "cell_type": "code",
   "execution_count": 15,
   "id": "f76801d3",
   "metadata": {
    "execution": {
     "iopub.execute_input": "2022-06-23T06:28:56.976609Z",
     "iopub.status.busy": "2022-06-23T06:28:56.976237Z",
     "iopub.status.idle": "2022-06-23T06:28:57.148528Z",
     "shell.execute_reply": "2022-06-23T06:28:57.147402Z"
    },
    "papermill": {
     "duration": 0.184749,
     "end_time": "2022-06-23T06:28:57.151396",
     "exception": false,
     "start_time": "2022-06-23T06:28:56.966647",
     "status": "completed"
    },
    "tags": []
   },
   "outputs": [
    {
     "data": {
      "text/plain": [
       "Text(0, 0.5, 'R2 Score')"
      ]
     },
     "execution_count": 15,
     "metadata": {},
     "output_type": "execute_result"
    },
    {
     "data": {
      "image/png": "[encoded data removed]",
      "text/plain": [
       "<Figure size 432x288 with 1 Axes>"
      ]
     },
     "metadata": {
      "needs_background": "light"
     },
     "output_type": "display_data"
    }
   ],
   "source": [
    "# Plot Scores\n",
    "\n",
    "plt.bar(model, scores, width = 0.3)\n",
    "plt.xlabel('Model')\n",
    "plt.ylabel('R2 Score')"
   ]
  },
  {
   "cell_type": "code",
   "execution_count": 16,
   "id": "aeea4325",
   "metadata": {
    "execution": {
     "iopub.execute_input": "2022-06-23T06:28:57.170710Z",
     "iopub.status.busy": "2022-06-23T06:28:57.170289Z",
     "iopub.status.idle": "2022-06-23T06:28:57.352798Z",
     "shell.execute_reply": "2022-06-23T06:28:57.351942Z"
    },
    "papermill": {
     "duration": 0.194822,
     "end_time": "2022-06-23T06:28:57.355002",
     "exception": false,
     "start_time": "2022-06-23T06:28:57.160180",
     "status": "completed"
    },
    "tags": []
   },
   "outputs": [
    {
     "data": {
      "text/plain": [
       "Text(0, 0.5, 'RMSE')"
      ]
     },
     "execution_count": 16,
     "metadata": {},
     "output_type": "execute_result"
    },
    {
     "data": {
      "image/png": "[encoded data removed]",
      "text/plain": [
       "<Figure size 432x288 with 1 Axes>"
      ]
     },
     "metadata": {
      "needs_background": "light"
     },
     "output_type": "display_data"
    }
   ],
   "source": [
    "#Plot RMSE \n",
    "\n",
    "plt.bar(model, rmse, width = 0.3)\n",
    "plt.xlabel('Model')\n",
    "plt.ylabel('RMSE')"
   ]
  },
  {
   "cell_type": "code",
   "execution_count": 17,
   "id": "576c21d8",
   "metadata": {
    "execution": {
     "iopub.execute_input": "2022-06-23T06:28:57.375343Z",
     "iopub.status.busy": "2022-06-23T06:28:57.374677Z",
     "iopub.status.idle": "2022-06-23T06:28:57.542051Z",
     "shell.execute_reply": "2022-06-23T06:28:57.540939Z"
    },
    "papermill": {
     "duration": 0.180353,
     "end_time": "2022-06-23T06:28:57.544599",
     "exception": false,
     "start_time": "2022-06-23T06:28:57.364246",
     "status": "completed"
    },
    "tags": []
   },
   "outputs": [
    {
     "data": {
      "text/plain": [
       "Text(0, 0.5, 'CV Score')"
      ]
     },
     "execution_count": 17,
     "metadata": {},
     "output_type": "execute_result"
    },
    {
     "data": {
      "image/png": "[encoded data removed]",
      "text/plain": [
       "<Figure size 432x288 with 1 Axes>"
      ]
     },
     "metadata": {
      "needs_background": "light"
     },
     "output_type": "display_data"
    }
   ],
   "source": [
    "#Plot cross validation score\n",
    "\n",
    "plt.bar(model, crv, width = 0.3)\n",
    "plt.xlabel('Model')\n",
    "plt.ylabel('CV Score')"
   ]
  }
 ],
 "metadata": {
  "kernelspec": {
   "display_name": "Python 3",
   "language": "python",
   "name": "python3"
  },
  "language_info": {
   "codemirror_mode": {
    "name": "ipython",
    "version": 3
   },
   "file_extension": ".py",
   "mimetype": "text/x-python",
   "name": "python",
   "nbconvert_exporter": "python",
   "pygments_lexer": "ipython3",
   "version": "3.7.12"
  },
  "papermill": {
   "default_parameters": {},
   "duration": 37.779831,
   "end_time": "2022-06-23T06:28:58.376580",
   "environment_variables": {},
   "exception": null,
   "input_path": "__notebook__.ipynb",
   "output_path": "__notebook__.ipynb",
   "parameters": {},
   "start_time": "2022-06-23T06:28:20.596749",
   "version": "2.3.4"
  }
 },
 "nbformat": 4,
 "nbformat_minor": 5
}
